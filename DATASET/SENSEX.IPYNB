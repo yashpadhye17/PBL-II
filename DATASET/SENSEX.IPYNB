{
 "cells": [
  {
   "cell_type": "code",
   "execution_count": 13,
   "metadata": {},
   "outputs": [],
   "source": [
    "import pandas as pd\n",
    "import numpy as np"
   ]
  },
  {
   "cell_type": "code",
   "execution_count": 14,
   "metadata": {},
   "outputs": [],
   "source": [
    "data= pd.read_csv(\"https://data.nasdaq.com/api/v3/datasets/BSE/SENSEX.csv?api_key=hQ1m5NeC8pAcFbhW5xBE&start_date=1991-01-03&end_date=2022-4-18\")"
   ]
  },
  {
   "cell_type": "code",
   "execution_count": 15,
   "metadata": {},
   "outputs": [
    {
     "data": {
      "text/html": [
       "<div>\n",
       "<style scoped>\n",
       "    .dataframe tbody tr th:only-of-type {\n",
       "        vertical-align: middle;\n",
       "    }\n",
       "\n",
       "    .dataframe tbody tr th {\n",
       "        vertical-align: top;\n",
       "    }\n",
       "\n",
       "    .dataframe thead th {\n",
       "        text-align: right;\n",
       "    }\n",
       "</style>\n",
       "<table border=\"1\" class=\"dataframe\">\n",
       "  <thead>\n",
       "    <tr style=\"text-align: right;\">\n",
       "      <th></th>\n",
       "      <th>Date</th>\n",
       "      <th>Open</th>\n",
       "      <th>High</th>\n",
       "      <th>Low</th>\n",
       "      <th>Close</th>\n",
       "    </tr>\n",
       "  </thead>\n",
       "  <tbody>\n",
       "    <tr>\n",
       "      <th>0</th>\n",
       "      <td>2022-04-18</td>\n",
       "      <td>57338.58</td>\n",
       "      <td>57420.80</td>\n",
       "      <td>56842.39</td>\n",
       "      <td>57166.74</td>\n",
       "    </tr>\n",
       "    <tr>\n",
       "      <th>1</th>\n",
       "      <td>2022-04-13</td>\n",
       "      <td>58910.74</td>\n",
       "      <td>59003.82</td>\n",
       "      <td>58291.23</td>\n",
       "      <td>58338.93</td>\n",
       "    </tr>\n",
       "    <tr>\n",
       "      <th>2</th>\n",
       "      <td>2022-04-12</td>\n",
       "      <td>58743.50</td>\n",
       "      <td>58794.78</td>\n",
       "      <td>58298.57</td>\n",
       "      <td>58576.37</td>\n",
       "    </tr>\n",
       "    <tr>\n",
       "      <th>3</th>\n",
       "      <td>2022-04-11</td>\n",
       "      <td>59333.18</td>\n",
       "      <td>59355.76</td>\n",
       "      <td>58894.40</td>\n",
       "      <td>58964.57</td>\n",
       "    </tr>\n",
       "    <tr>\n",
       "      <th>4</th>\n",
       "      <td>2022-04-08</td>\n",
       "      <td>59256.97</td>\n",
       "      <td>59654.44</td>\n",
       "      <td>58876.36</td>\n",
       "      <td>59447.18</td>\n",
       "    </tr>\n",
       "    <tr>\n",
       "      <th>...</th>\n",
       "      <td>...</td>\n",
       "      <td>...</td>\n",
       "      <td>...</td>\n",
       "      <td>...</td>\n",
       "      <td>...</td>\n",
       "    </tr>\n",
       "    <tr>\n",
       "      <th>7586</th>\n",
       "      <td>1991-01-14</td>\n",
       "      <td>1012.80</td>\n",
       "      <td>1017.98</td>\n",
       "      <td>1004.91</td>\n",
       "      <td>1017.72</td>\n",
       "    </tr>\n",
       "    <tr>\n",
       "      <th>7587</th>\n",
       "      <td>1991-01-11</td>\n",
       "      <td>1000.51</td>\n",
       "      <td>1034.30</td>\n",
       "      <td>997.04</td>\n",
       "      <td>1034.30</td>\n",
       "    </tr>\n",
       "    <tr>\n",
       "      <th>7588</th>\n",
       "      <td>1991-01-09</td>\n",
       "      <td>1007.66</td>\n",
       "      <td>1013.80</td>\n",
       "      <td>998.09</td>\n",
       "      <td>1008.52</td>\n",
       "    </tr>\n",
       "    <tr>\n",
       "      <th>7589</th>\n",
       "      <td>1991-01-07</td>\n",
       "      <td>982.81</td>\n",
       "      <td>1010.77</td>\n",
       "      <td>978.69</td>\n",
       "      <td>1010.77</td>\n",
       "    </tr>\n",
       "    <tr>\n",
       "      <th>7590</th>\n",
       "      <td>1991-01-03</td>\n",
       "      <td>983.51</td>\n",
       "      <td>989.08</td>\n",
       "      <td>981.08</td>\n",
       "      <td>982.35</td>\n",
       "    </tr>\n",
       "  </tbody>\n",
       "</table>\n",
       "<p>7591 rows × 5 columns</p>\n",
       "</div>"
      ],
      "text/plain": [
       "            Date      Open      High       Low     Close\n",
       "0     2022-04-18  57338.58  57420.80  56842.39  57166.74\n",
       "1     2022-04-13  58910.74  59003.82  58291.23  58338.93\n",
       "2     2022-04-12  58743.50  58794.78  58298.57  58576.37\n",
       "3     2022-04-11  59333.18  59355.76  58894.40  58964.57\n",
       "4     2022-04-08  59256.97  59654.44  58876.36  59447.18\n",
       "...          ...       ...       ...       ...       ...\n",
       "7586  1991-01-14   1012.80   1017.98   1004.91   1017.72\n",
       "7587  1991-01-11   1000.51   1034.30    997.04   1034.30\n",
       "7588  1991-01-09   1007.66   1013.80    998.09   1008.52\n",
       "7589  1991-01-07    982.81   1010.77    978.69   1010.77\n",
       "7590  1991-01-03    983.51    989.08    981.08    982.35\n",
       "\n",
       "[7591 rows x 5 columns]"
      ]
     },
     "execution_count": 15,
     "metadata": {},
     "output_type": "execute_result"
    }
   ],
   "source": [
    "data"
   ]
  },
  {
   "cell_type": "code",
   "execution_count": 16,
   "metadata": {},
   "outputs": [
    {
     "data": {
      "text/plain": [
       "(7591, 5)"
      ]
     },
     "execution_count": 16,
     "metadata": {},
     "output_type": "execute_result"
    }
   ],
   "source": [
    "data.shape"
   ]
  },
  {
   "cell_type": "code",
   "execution_count": 17,
   "metadata": {},
   "outputs": [
    {
     "name": "stdout",
     "output_type": "stream",
     "text": [
      "<class 'pandas.core.frame.DataFrame'>\n",
      "RangeIndex: 7591 entries, 0 to 7590\n",
      "Data columns (total 5 columns):\n",
      " #   Column  Non-Null Count  Dtype  \n",
      "---  ------  --------------  -----  \n",
      " 0   Date    7591 non-null   object \n",
      " 1   Open    7574 non-null   float64\n",
      " 2   High    7572 non-null   float64\n",
      " 3   Low     7572 non-null   float64\n",
      " 4   Close   7591 non-null   float64\n",
      "dtypes: float64(4), object(1)\n",
      "memory usage: 296.6+ KB\n"
     ]
    }
   ],
   "source": [
    "data.info()"
   ]
  },
  {
   "cell_type": "code",
   "execution_count": 18,
   "metadata": {},
   "outputs": [],
   "source": [
    "import matplotlib.pyplot as plt"
   ]
  },
  {
   "cell_type": "code",
   "execution_count": 18,
   "metadata": {},
   "outputs": [
    {
     "data": {
      "image/png": "[encoded data removed]",
      "text/plain": [
       "<Figure size 432x288 with 1 Axes>"
      ]
     },
     "metadata": {
      "needs_background": "light"
     },
     "output_type": "display_data"
    }
   ],
   "source": [
    "plt.plot(data.Date)\n",
    "plt.show()"
   ]
  },
  {
   "cell_type": "code",
   "execution_count": 8,
   "metadata": {},
   "outputs": [
    {
     "data": {
      "text/plain": [
       "[<matplotlib.lines.Line2D at 0x7fc05ea66bb0>]"
      ]
     },
     "execution_count": 8,
     "metadata": {},
     "output_type": "execute_result"
    },
    {
     "data": {
      "image/png": "[encoded data removed]",
      "text/plain": [
       "<Figure size 432x288 with 1 Axes>"
      ]
     },
     "metadata": {
      "needs_background": "light"
     },
     "output_type": "display_data"
    }
   ],
   "source": [
    "plt.plot(data.High)"
   ]
  }
 ],
 "metadata": {
  "interpreter": {
   "hash": "916dbcbb3f70747c44a77c7bcd40155683ae19c65e1c03b4aa3499c5328201f1"
  },
  "kernelspec": {
   "display_name": "Python 3.8.10 64-bit",
   "language": "python",
   "name": "python3"
  },
  "language_info": {
   "codemirror_mode": {
    "name": "ipython",
    "version": 3
   },
   "file_extension": ".py",
   "mimetype": "text/x-python",
   "name": "python",
   "nbconvert_exporter": "python",
   "pygments_lexer": "ipython3",
   "version": "3.8.10"
  },
  "orig_nbformat": 4
 },
 "nbformat": 4,
 "nbformat_minor": 2
}
