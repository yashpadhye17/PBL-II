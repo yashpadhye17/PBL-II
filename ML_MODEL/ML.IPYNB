{
 "cells": [
  {
   "cell_type": "code",
   "execution_count": 1,
   "metadata": {},
   "outputs": [],
   "source": [
    "#installing libs \n",
    "import pandas as pd\n",
    "import numpy as np\n",
    "import matplotlib. pyplot as pit\n",
    "%matplotlib inline\n",
    "\n",
    "import chart_studio.plotly as py\n",
    "import plotly.graph_objs as go\n",
    "from plotly.offline import plot\n",
    "#for offline plotting I\n",
    "from plotly.offline import download_plotlyjs, init_notebook_mode, plot, iplot\n",
    "init_notebook_mode(connected=True)\n",
    "import sklearn"
   ]
  },
  {
   "cell_type": "code",
   "execution_count": null,
   "metadata": {},
   "outputs": [],
   "source": [
    "#import dataset\n",
    "vidharbha=pd.read_csv(\"https://data.nasdaq.com/api/v3/datasets/BSE/BOM504991.csv?api_key=hQ1m5NeC8pAcFbhW5xBE\")\n",
    "vidharbha.head()"
   ]
  },
  {
   "cell_type": "code",
   "execution_count": null,
   "metadata": {},
   "outputs": [],
   "source": [
    "#data type null values entrires....all the mata data\n",
    "vidharbha. info()"
   ]
  },
  {
   "cell_type": "code",
   "execution_count": null,
   "metadata": {},
   "outputs": [],
   "source": [
    "vidharbha[ 'Date'] = pd.to_datetime(vidharbha['Date'])"
   ]
  },
  {
   "cell_type": "code",
   "execution_count": null,
   "metadata": {},
   "outputs": [],
   "source": [
    "print(f'Dataframe contains stock prices between {vidharbha.Date.min()} {vidharbha.Date.max()}')\n",
    "print(f'Total days = {(vidharbha.Date.max() - vidharbha.Date.min()).days}days')"
   ]
  },
  {
   "cell_type": "code",
   "execution_count": null,
   "metadata": {},
   "outputs": [],
   "source": [
    "vidharbha.describe()"
   ]
  },
  {
   "cell_type": "code",
   "execution_count": null,
   "metadata": {},
   "outputs": [],
   "source": [
    "vidharbha[['Open','High','Low','Close','WAP']].plot(kind='box')"
   ]
  },
  {
   "cell_type": "code",
   "execution_count": null,
   "metadata": {},
   "outputs": [],
   "source": [
    "# Setting the Layout for our plot\n",
    "layout =go.Layout(\n",
    "title='Stock Prices of sensex',\n",
    "xaxis=dict(\n",
    "title='Date',\n",
    "titlefont=dict(\n",
    "family='Courier New, monospace',\n",
    "size=18,\n",
    "color='# 7f7f7f'\n",
    " )\n",
    "),\n",
    "\n",
    "yaxis=dict(\n",
    "title='price',\n",
    "titlefont=dict(\n",
    "family='Courier New, monospace',\n",
    "size=18,\n",
    "color='#7f7f7f'\n",
    ")\n",
    ")\n",
    ")\n",
    "\n",
    "vidharbha_data = [{'x' :vidharbha[ 'Date'], 'y':vidharbha['Close' ]} ]\n",
    "\n",
    "plot = go.Figure(data=vidharbha_data, layout=layout)"
   ]
  },
  {
   "cell_type": "code",
   "execution_count": null,
   "metadata": {},
   "outputs": [],
   "source": [
    "#plot(plot) #plotting offline\n",
    "iplot(plot)"
   ]
  },
  {
   "cell_type": "code",
   "execution_count": null,
   "metadata": {},
   "outputs": [],
   "source": [
    "# Building the regression model\n",
    "from sklearn.model_selection import train_test_split\n",
    "#For preprocessing\n",
    "from sklearn.preprocessing import MinMaxScaler\n",
    "\n",
    "from sklearn.preprocessing import StandardScaler\n",
    "#For model evaluation\n",
    "from sklearn.metrics import mean_squared_error as mse\n",
    "from sklearn.metrics import r2_score"
   ]
  },
  {
   "cell_type": "code",
   "execution_count": null,
   "metadata": {},
   "outputs": [],
   "source": [
    "#Split the data into train and test sets\n",
    "x = np.array (vidharbha. index). reshape(-1,1)\n",
    "Y = vidharbha[ 'Close']\n",
    "x_train,x_test,Y_train,Y_test=train_test_split(x,Y,test_size=0.3,random_state=101)"
   ]
  },
  {
   "cell_type": "code",
   "execution_count": null,
   "metadata": {},
   "outputs": [],
   "source": [
    "# Feature scaling\n",
    "scaler = StandardScaler().fit(x_train)"
   ]
  },
  {
   "cell_type": "code",
   "execution_count": null,
   "metadata": {},
   "outputs": [],
   "source": [
    "from sklearn.linear_model import LinearRegression"
   ]
  },
  {
   "cell_type": "code",
   "execution_count": null,
   "metadata": {},
   "outputs": [],
   "source": [
    "#Creating a Linear model\n",
    "lm = LinearRegression()\n",
    "lm.fit(x_train, Y_train)"
   ]
  },
  {
   "cell_type": "code",
   "execution_count": null,
   "metadata": {},
   "outputs": [],
   "source": [
    "#Plot actual and predicted values for traid dataset\n",
    "trace0 = go.Scatter(\n",
    "x = x_train. T[0],\n",
    "y = Y_train,\n",
    "mode = 'markers',\n",
    "name = 'Actual'\n",
    ")\n",
    "trace1 = go.Scatter(\n",
    "x = x_train.T[0],\n",
    "y = lm.predict(x_train).T,\n",
    "mode ='lines',\n",
    "name ='Predicted'\n",
    ")\n",
    "\n",
    "vidharbha_data = [trace0,trace1]\n",
    "layout . xaxis. title. text = 'Day'\n",
    "plot2 = go. Figure(data=vidharbha_data, layout=layout)"
   ]
  },
  {
   "cell_type": "code",
   "execution_count": null,
   "metadata": {},
   "outputs": [],
   "source": [
    "iplot(plot2)"
   ]
  },
  {
   "cell_type": "code",
   "execution_count": null,
   "metadata": {},
   "outputs": [],
   "source": [
    "#Calculate scores for model evaluation\n",
    "scores = f'''\n",
    "{'metric'.ljust(10)} {'Train'.center(20)} {'Test'.center(20)}\n",
    "{'r2_score' .ljust(10)}{r2_score(Y_train, lm.predict(x_train))}\\t{r2_score(Y_test, lm.predict(x_test))}\n",
    "{'MSE' .ljust(10) }{mse(Y_train, lm. predict(x_train))}\\t{mse(Y_test, lm.predict(x_test))}\n",
    "'''\n",
    "print(scores)"
   ]
  }
 ],
 "metadata": {
  "interpreter": {
   "hash": "3f800561dde6209f0c647b1ec24b295364b37801e2a63d392a491285ef4d5a88"
  },
  "kernelspec": {
   "display_name": "Python 3.8.12 ('base')",
   "language": "python",
   "name": "python3"
  },
  "language_info": {
   "codemirror_mode": {
    "name": "ipython",
    "version": 3
   },
   "file_extension": ".py",
   "mimetype": "text/x-python",
   "name": "python",
   "nbconvert_exporter": "python",
   "pygments_lexer": "ipython3",
   "version": "3.8.12"
  },
  "orig_nbformat": 4
 },
 "nbformat": 4,
 "nbformat_minor": 2
}
